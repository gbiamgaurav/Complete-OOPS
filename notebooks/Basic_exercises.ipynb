{
 "cells": [
  {
   "cell_type": "code",
   "execution_count": 5,
   "id": "5f750ade",
   "metadata": {},
   "outputs": [],
   "source": [
    "## Exercise 1: Create a class Greeter with a method greet(name) that prints a greeting for the provided name.\n",
    "\n",
    "class Greeter:\n",
    "    def __init__(self):\n",
    "        pass \n",
    "\n",
    "    def greet(self, name):\n",
    "        self.name = name \n",
    "        print(f\"Hello {self.name}!\")"
   ]
  },
  {
   "cell_type": "code",
   "execution_count": 6,
   "id": "d2898318",
   "metadata": {},
   "outputs": [
    {
     "name": "stdout",
     "output_type": "stream",
     "text": [
      "Hello Gaurav!\n"
     ]
    }
   ],
   "source": [
    "g = Greeter()\n",
    "\n",
    "g.greet(\"Gaurav\")"
   ]
  },
  {
   "cell_type": "code",
   "execution_count": 9,
   "id": "cb8c6b49",
   "metadata": {},
   "outputs": [
    {
     "name": "stdout",
     "output_type": "stream",
     "text": [
      "Addition of 2 numbers: 5\n",
      "Substraction of 2 numbers:  -1\n"
     ]
    }
   ],
   "source": [
    "## Exercise 2: Develop a class Calculator with methods to add and subtract two numbers.\n",
    "\n",
    "class Calculator:\n",
    "    def __init__(self):\n",
    "        pass\n",
    "\n",
    "    def add(self, a, b):\n",
    "        return a + b \n",
    "\n",
    "    def sub(self, a, b):\n",
    "        return a - b\n",
    "\n",
    "  \n",
    "c = Calculator()\n",
    "print(f\"Addition of 2 numbers:\", c.add(2, 3))\n",
    "print(f\"Substraction of 2 numbers: \", c.sub(2, 3))"
   ]
  },
  {
   "cell_type": "code",
   "execution_count": 12,
   "id": "8abed09e",
   "metadata": {},
   "outputs": [],
   "source": [
    "## Exercise 3: Build a class Employee with multiple constructors that can initialize an employee object in different ways.\n",
    "\n",
    "class Employee:\n",
    "    def __init__(self, name, age, id, department, salary):\n",
    "        self.name = name \n",
    "        self.age = age \n",
    "        self.department = department\n",
    "        self.salary = salary\n",
    "        self.id = id\n",
    "\n",
    "\n",
    "    def display_details(self):\n",
    "        print(f\"Name: {self.name}\")\n",
    "        print(f\"Age: {self.age}\")\n",
    "        print(f\"ID: {self.id}\")\n",
    "        print(f\"Vertical: {self.department}\")\n",
    "        print(f\"Salary offerred: {self.salary} LPA\")"
   ]
  },
  {
   "cell_type": "code",
   "execution_count": 13,
   "id": "a75cf3b4",
   "metadata": {},
   "outputs": [
    {
     "name": "stdout",
     "output_type": "stream",
     "text": [
      "Name: Gaurav\n",
      "Age: 36\n",
      "ID: 84756\n",
      "Vertical: AI/ML/Data Science\n",
      "Salary offerred: 24.7 LPA\n"
     ]
    }
   ],
   "source": [
    "e1 = Employee(\"Gaurav\", 36, 84756, \"AI/ML/Data Science\", 24.7)\n",
    "e1.display_details()"
   ]
  },
  {
   "cell_type": "code",
   "execution_count": 16,
   "id": "de2b4111",
   "metadata": {},
   "outputs": [
    {
     "name": "stdout",
     "output_type": "stream",
     "text": [
      "The sum of arithmetic series:  13.0\n"
     ]
    }
   ],
   "source": [
    "## Exercise 4: Design a class SeriesCalculator that calculates the sum of an arithmetic series.\n",
    "\n",
    "class SeriesCalculator:\n",
    "    def __init__(self):\n",
    "        pass \n",
    "\n",
    "    def sum(self, n, a1=1, d=2):\n",
    "        result = (n / 2) * (2 * a1 + (n - 1) * d)\n",
    "        print(f\"The sum of arithmetic series: \", result)\n",
    "\n",
    "\n",
    "c1 = SeriesCalculator()\n",
    "c1.sum(2, 3, 7)"
   ]
  },
  {
   "cell_type": "code",
   "execution_count": 17,
   "id": "635b5e98",
   "metadata": {},
   "outputs": [
    {
     "name": "stdout",
     "output_type": "stream",
     "text": [
      "The sum of arithmetic series:  25.0\n"
     ]
    }
   ],
   "source": [
    "c2 = SeriesCalculator()\n",
    "c2.sum(5)"
   ]
  },
  {
   "cell_type": "code",
   "execution_count": 39,
   "id": "7256fa9f",
   "metadata": {},
   "outputs": [
    {
     "data": {
      "text/plain": [
       "[130,\n",
       " 659,\n",
       " 346,\n",
       " 797,\n",
       " 684,\n",
       " 34,\n",
       " 354,\n",
       " 999,\n",
       " 650,\n",
       " 558,\n",
       " 956,\n",
       " 315,\n",
       " 218,\n",
       " 53,\n",
       " 310,\n",
       " 649,\n",
       " 834,\n",
       " 63,\n",
       " 776,\n",
       " 143]"
      ]
     },
     "execution_count": 39,
     "metadata": {},
     "output_type": "execute_result"
    }
   ],
   "source": [
    "import random\n",
    "\n",
    "l = random.sample(range(1, 1000), 20)\n",
    "l"
   ]
  },
  {
   "cell_type": "code",
   "execution_count": 29,
   "id": "1fddc9dc",
   "metadata": {},
   "outputs": [],
   "source": [
    "## Exercise 5: Create a class MaxFinder that identifies the largest number in a list.\n",
    "\n",
    "class MaxFinder:\n",
    "    def __init__(self):\n",
    "        pass\n",
    "\n",
    "    def max_num(self, numbers):\n",
    "        self.numbers = numbers\n",
    "        print(f\"The maximum number is: \", max(numbers))\n",
    "    "
   ]
  },
  {
   "cell_type": "code",
   "execution_count": 40,
   "id": "d64864c7",
   "metadata": {},
   "outputs": [
    {
     "name": "stdout",
     "output_type": "stream",
     "text": [
      "The maximum number is:  999\n"
     ]
    }
   ],
   "source": [
    "m1 = MaxFinder()\n",
    "m1.max_num(l)"
   ]
  },
  {
   "cell_type": "code",
   "execution_count": 61,
   "id": "2c70540b",
   "metadata": {},
   "outputs": [],
   "source": [
    "## Exercise 6: Design a Rectangle class with default attributes for length and width set to 1. Include methods to set these attributes and calculate the area.\n",
    "\n",
    "\n",
    "class Rectangle:\n",
    "    def __init__(self, length=1, width=1):\n",
    "        self.length = length\n",
    "        self.width = width\n",
    "    \n",
    "    def set_dimensions(self, length, width):\n",
    "        self.length = length \n",
    "        self.width = width\n",
    "\n",
    "    def area(self):\n",
    "        area = self.length * self.width\n",
    "        print(f\"Area of Rectangle:\", area)"
   ]
  },
  {
   "cell_type": "code",
   "execution_count": 62,
   "id": "f3919838",
   "metadata": {},
   "outputs": [
    {
     "name": "stdout",
     "output_type": "stream",
     "text": [
      "Area of Rectangle: 15\n"
     ]
    }
   ],
   "source": [
    "r1 = Rectangle()\n",
    "r1.set_dimensions(5, 3)\n",
    "r1.area()"
   ]
  },
  {
   "cell_type": "code",
   "execution_count": 65,
   "id": "6e5f47d6",
   "metadata": {},
   "outputs": [],
   "source": [
    "## Exercise 7: Person Class with __str__ Method: Create a Person class with first and last name attributes and override the __str__ method to return the full name\n",
    "\n",
    "class Person:\n",
    "    def __init__(self, first_name, last_name):\n",
    "        self.first_name = first_name\n",
    "        self.last_name = last_name\n",
    "\n",
    "\n",
    "    def __str__(self):\n",
    "        return f\"{self.first_name} {self.last_name}\""
   ]
  },
  {
   "cell_type": "code",
   "execution_count": 67,
   "id": "cd063931",
   "metadata": {},
   "outputs": [
    {
     "name": "stdout",
     "output_type": "stream",
     "text": [
      "Gaurav Bhattacharya\n"
     ]
    }
   ],
   "source": [
    "p1 = Person(\"Gaurav\", \"Bhattacharya\")\n",
    "print(p1)"
   ]
  },
  {
   "cell_type": "code",
   "execution_count": null,
   "id": "fdab0b1f",
   "metadata": {},
   "outputs": [],
   "source": []
  },
  {
   "cell_type": "code",
   "execution_count": null,
   "id": "5c07a029",
   "metadata": {},
   "outputs": [],
   "source": []
  },
  {
   "cell_type": "code",
   "execution_count": null,
   "id": "a4d2f83e",
   "metadata": {},
   "outputs": [],
   "source": []
  },
  {
   "cell_type": "code",
   "execution_count": null,
   "id": "23597906",
   "metadata": {},
   "outputs": [],
   "source": []
  },
  {
   "cell_type": "code",
   "execution_count": null,
   "id": "6320afd2",
   "metadata": {},
   "outputs": [],
   "source": []
  },
  {
   "cell_type": "code",
   "execution_count": null,
   "id": "c4a64515",
   "metadata": {},
   "outputs": [],
   "source": []
  },
  {
   "cell_type": "code",
   "execution_count": null,
   "id": "0d6b60d8",
   "metadata": {},
   "outputs": [],
   "source": []
  },
  {
   "cell_type": "code",
   "execution_count": null,
   "id": "a56fdc7e",
   "metadata": {},
   "outputs": [],
   "source": []
  }
 ],
 "metadata": {
  "kernelspec": {
   "display_name": "learn",
   "language": "python",
   "name": "python3"
  },
  "language_info": {
   "codemirror_mode": {
    "name": "ipython",
    "version": 3
   },
   "file_extension": ".py",
   "mimetype": "text/x-python",
   "name": "python",
   "nbconvert_exporter": "python",
   "pygments_lexer": "ipython3",
   "version": "3.12.11"
  },
  "widgets": {
   "application/vnd.jupyter.widget-state+json": {
    "state": {},
    "version_major": 2,
    "version_minor": 0
   }
  }
 },
 "nbformat": 4,
 "nbformat_minor": 5
}
