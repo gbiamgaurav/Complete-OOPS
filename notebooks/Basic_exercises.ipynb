{
 "cells": [
  {
   "cell_type": "code",
   "execution_count": 5,
   "id": "5f750ade",
   "metadata": {},
   "outputs": [],
   "source": [
    "## Exercise 1: Create a class Greeter with a method greet(name) that prints a greeting for the provided name.\n",
    "\n",
    "class Greeter:\n",
    "    def __init__(self):\n",
    "        pass \n",
    "\n",
    "    def greet(self, name):\n",
    "        self.name = name \n",
    "        print(f\"Hello {self.name}!\")"
   ]
  },
  {
   "cell_type": "code",
   "execution_count": 6,
   "id": "d2898318",
   "metadata": {},
   "outputs": [
    {
     "name": "stdout",
     "output_type": "stream",
     "text": [
      "Hello Gaurav!\n"
     ]
    }
   ],
   "source": [
    "g = Greeter()\n",
    "\n",
    "g.greet(\"Gaurav\")"
   ]
  },
  {
   "cell_type": "code",
   "execution_count": 9,
   "id": "cb8c6b49",
   "metadata": {},
   "outputs": [
    {
     "name": "stdout",
     "output_type": "stream",
     "text": [
      "Addition of 2 numbers: 5\n",
      "Substraction of 2 numbers:  -1\n"
     ]
    }
   ],
   "source": [
    "## Exercise 2: Develop a class Calculator with methods to add and subtract two numbers.\n",
    "\n",
    "class Calculator:\n",
    "    def __init__(self):\n",
    "        pass\n",
    "\n",
    "    def add(self, a, b):\n",
    "        return a + b \n",
    "\n",
    "    def sub(self, a, b):\n",
    "        return a - b\n",
    "\n",
    "  \n",
    "c = Calculator()\n",
    "print(f\"Addition of 2 numbers:\", c.add(2, 3))\n",
    "print(f\"Substraction of 2 numbers: \", c.sub(2, 3))"
   ]
  },
  {
   "cell_type": "code",
   "execution_count": 12,
   "id": "8abed09e",
   "metadata": {},
   "outputs": [],
   "source": [
    "## Exercise 3: Build a class Employee with multiple constructors that can initialize an employee object in different ways.\n",
    "\n",
    "class Employee:\n",
    "    def __init__(self, name, age, id, department, salary):\n",
    "        self.name = name \n",
    "        self.age = age \n",
    "        self.department = department\n",
    "        self.salary = salary\n",
    "        self.id = id\n",
    "\n",
    "\n",
    "    def display_details(self):\n",
    "        print(f\"Name: {self.name}\")\n",
    "        print(f\"Age: {self.age}\")\n",
    "        print(f\"ID: {self.id}\")\n",
    "        print(f\"Vertical: {self.department}\")\n",
    "        print(f\"Salary offerred: {self.salary} LPA\")"
   ]
  },
  {
   "cell_type": "code",
   "execution_count": 13,
   "id": "a75cf3b4",
   "metadata": {},
   "outputs": [
    {
     "name": "stdout",
     "output_type": "stream",
     "text": [
      "Name: Gaurav\n",
      "Age: 36\n",
      "ID: 84756\n",
      "Vertical: AI/ML/Data Science\n",
      "Salary offerred: 24.7 LPA\n"
     ]
    }
   ],
   "source": [
    "e1 = Employee(\"Gaurav\", 36, 84756, \"AI/ML/Data Science\", 24.7)\n",
    "e1.display_details()"
   ]
  },
  {
   "cell_type": "code",
   "execution_count": 16,
   "id": "de2b4111",
   "metadata": {},
   "outputs": [
    {
     "name": "stdout",
     "output_type": "stream",
     "text": [
      "The sum of arithmetic series:  13.0\n"
     ]
    }
   ],
   "source": [
    "## Exercise 4: Design a class SeriesCalculator that calculates the sum of an arithmetic series.\n",
    "\n",
    "class SeriesCalculator:\n",
    "    def __init__(self):\n",
    "        pass \n",
    "\n",
    "    def sum(self, n, a1=1, d=2):\n",
    "        result = (n / 2) * (2 * a1 + (n - 1) * d)\n",
    "        print(f\"The sum of arithmetic series: \", result)\n",
    "\n",
    "\n",
    "c1 = SeriesCalculator()\n",
    "c1.sum(2, 3, 7)"
   ]
  },
  {
   "cell_type": "code",
   "execution_count": 17,
   "id": "635b5e98",
   "metadata": {},
   "outputs": [
    {
     "name": "stdout",
     "output_type": "stream",
     "text": [
      "The sum of arithmetic series:  25.0\n"
     ]
    }
   ],
   "source": [
    "c2 = SeriesCalculator()\n",
    "c2.sum(5)"
   ]
  },
  {
   "cell_type": "code",
   "execution_count": 39,
   "id": "7256fa9f",
   "metadata": {},
   "outputs": [
    {
     "data": {
      "text/plain": [
       "[130,\n",
       " 659,\n",
       " 346,\n",
       " 797,\n",
       " 684,\n",
       " 34,\n",
       " 354,\n",
       " 999,\n",
       " 650,\n",
       " 558,\n",
       " 956,\n",
       " 315,\n",
       " 218,\n",
       " 53,\n",
       " 310,\n",
       " 649,\n",
       " 834,\n",
       " 63,\n",
       " 776,\n",
       " 143]"
      ]
     },
     "execution_count": 39,
     "metadata": {},
     "output_type": "execute_result"
    }
   ],
   "source": [
    "import random\n",
    "\n",
    "l = random.sample(range(1, 1000), 20)\n",
    "l"
   ]
  },
  {
   "cell_type": "code",
   "execution_count": 29,
   "id": "1fddc9dc",
   "metadata": {},
   "outputs": [],
   "source": [
    "## Exercise 5: Create a class MaxFinder that identifies the largest number in a list.\n",
    "\n",
    "class MaxFinder:\n",
    "    def __init__(self):\n",
    "        pass\n",
    "\n",
    "    def max_num(self, numbers):\n",
    "        self.numbers = numbers\n",
    "        print(f\"The maximum number is: \", max(numbers))\n",
    "    "
   ]
  },
  {
   "cell_type": "code",
   "execution_count": 40,
   "id": "d64864c7",
   "metadata": {},
   "outputs": [
    {
     "name": "stdout",
     "output_type": "stream",
     "text": [
      "The maximum number is:  999\n"
     ]
    }
   ],
   "source": [
    "m1 = MaxFinder()\n",
    "m1.max_num(l)"
   ]
  },
  {
   "cell_type": "code",
   "execution_count": 61,
   "id": "2c70540b",
   "metadata": {},
   "outputs": [],
   "source": [
    "## Exercise 6: Design a Rectangle class with default attributes for length and width set to 1. Include methods to set these attributes and calculate the area.\n",
    "\n",
    "\n",
    "class Rectangle:\n",
    "    def __init__(self, length=1, width=1):\n",
    "        self.length = length\n",
    "        self.width = width\n",
    "    \n",
    "    def set_dimensions(self, length, width):\n",
    "        self.length = length \n",
    "        self.width = width\n",
    "\n",
    "    def area(self):\n",
    "        area = self.length * self.width\n",
    "        print(f\"Area of Rectangle:\", area)"
   ]
  },
  {
   "cell_type": "code",
   "execution_count": 62,
   "id": "f3919838",
   "metadata": {},
   "outputs": [
    {
     "name": "stdout",
     "output_type": "stream",
     "text": [
      "Area of Rectangle: 15\n"
     ]
    }
   ],
   "source": [
    "r1 = Rectangle()\n",
    "r1.set_dimensions(5, 3)\n",
    "r1.area()"
   ]
  },
  {
   "cell_type": "code",
   "execution_count": 65,
   "id": "6e5f47d6",
   "metadata": {},
   "outputs": [],
   "source": [
    "## Exercise 7: Person Class with __str__ Method: Create a Person class with first and last name attributes and override the __str__ method to return the full name\n",
    "\n",
    "class Person:\n",
    "    def __init__(self, first_name, last_name):\n",
    "        self.first_name = first_name\n",
    "        self.last_name = last_name\n",
    "\n",
    "\n",
    "    def __str__(self):\n",
    "        return f\"{self.first_name} {self.last_name}\""
   ]
  },
  {
   "cell_type": "code",
   "execution_count": 67,
   "id": "cd063931",
   "metadata": {},
   "outputs": [
    {
     "name": "stdout",
     "output_type": "stream",
     "text": [
      "Gaurav Bhattacharya\n"
     ]
    }
   ],
   "source": [
    "p1 = Person(\"Gaurav\", \"Bhattacharya\")\n",
    "print(p1)"
   ]
  },
  {
   "cell_type": "code",
   "execution_count": 2,
   "id": "fdab0b1f",
   "metadata": {},
   "outputs": [
    {
     "name": "stdout",
     "output_type": "stream",
     "text": [
      "Gaurav's average marks: 59.40, Grade: C\n"
     ]
    }
   ],
   "source": [
    "## Exercise 8: Student Grade Calculator: Implement a Student class with attributes for name and a list of marks. Include a method to calculate the average and determine the grade.\n",
    "\n",
    "class Student:\n",
    "    def __init__(self, name, marks_list):\n",
    "        self.name = name \n",
    "        self.marks_list = marks_list\n",
    "\n",
    "    def calculate_avg_and_grade(self):\n",
    "        if not self.marks_list:\n",
    "            avg_marks = 0 \n",
    "        else:\n",
    "            avg_marks = sum(self.marks_list) / len(self.marks_list)\n",
    "\n",
    "        grade = \"\"\n",
    "        if avg_marks >= 60.0:\n",
    "            grade = \"A\"\n",
    "        elif 40 <= avg_marks >= 60:\n",
    "            grade = \"B\"\n",
    "        else:\n",
    "            grade = \"C\"\n",
    "\n",
    "        print(f\"{self.name}'s average marks: {avg_marks:.2f}, Grade: {grade}\")\n",
    "    \n",
    "\n",
    "s1 = Student('Gaurav', [53, 65, 45, 76, 58])\n",
    "s1.calculate_avg_and_grade()\n"
   ]
  },
  {
   "cell_type": "code",
   "execution_count": 6,
   "id": "5c07a029",
   "metadata": {},
   "outputs": [
    {
     "data": {
      "text/plain": [
       "'Eight'"
      ]
     },
     "execution_count": 6,
     "metadata": {},
     "output_type": "execute_result"
    }
   ],
   "source": [
    "## Exercise 9: Last Digit in Words: Write a class with a method that takes an integer and prints the last digit of that number in words\n",
    "\n",
    "class NumberInWords:\n",
    "    def __init__(self):\n",
    "        pass \n",
    "\n",
    "    def check_number(self, number: int):\n",
    "        last_digit = number % 10 \n",
    "        words = ['Zero', 'One', 'Two', 'Three', 'Four', 'Five', 'Six', 'Seven', 'Eight', 'Nine']\n",
    "        return words[last_digit]\n",
    "    \n",
    "n1 = NumberInWords()\n",
    "n1.check_number(758)"
   ]
  },
  {
   "cell_type": "code",
   "execution_count": 11,
   "id": "a4d2f83e",
   "metadata": {},
   "outputs": [
    {
     "name": "stdout",
     "output_type": "stream",
     "text": [
      "Number of Objects created:  2\n"
     ]
    }
   ],
   "source": [
    "## Exercise 10: Object Count Tracker: Design a class that tracks how many objects have been created from it and has a method to display this count.\n",
    "\n",
    "class ObjectCounter:\n",
    "    count = 0\n",
    "\n",
    "    def __init__(self):\n",
    "        ObjectCounter.count += 1 \n",
    "\n",
    "    @staticmethod\n",
    "    def display_count():\n",
    "        print(f\"Number of Objects created: \", ObjectCounter.count)\n",
    "\n",
    "\n",
    "o1 = ObjectCounter()\n",
    "o2 = ObjectCounter()\n",
    "\n",
    "ObjectCounter.display_count()\n",
    "\n"
   ]
  },
  {
   "cell_type": "code",
   "execution_count": 14,
   "id": "6320afd2",
   "metadata": {},
   "outputs": [
    {
     "name": "stdout",
     "output_type": "stream",
     "text": [
      "The total marks obtained by Gaurav is 192\n",
      "The average marks obtained by Gaurav is 64.0\n"
     ]
    }
   ],
   "source": [
    "## Exercise 11: Calculating Student Results: Develop a class to accept a student's name and marks in three subjects, then calculate and display the total and average marks.\n",
    "\n",
    "class Student:\n",
    "    def __init__(self, name, marks):\n",
    "        self.name = name \n",
    "        self.marks = marks\n",
    "\n",
    "    def total_marks(self):\n",
    "        total = sum(self.marks)\n",
    "        print(f\"The total marks obtained by {self.name} is {total}\")\n",
    "\n",
    "    def average_marks(self):\n",
    "        avg = sum(self.marks) / len(self.marks)\n",
    "        print(f\"The average marks obtained by {self.name} is {avg}\")\n",
    "\n",
    "\n",
    "s1 = Student(\"Gaurav\", [45, 78, 69])\n",
    "\n",
    "s1.total_marks()\n",
    "s1.average_marks()"
   ]
  },
  {
   "cell_type": "code",
   "execution_count": 17,
   "id": "c4a64515",
   "metadata": {},
   "outputs": [
    {
     "name": "stdout",
     "output_type": "stream",
     "text": [
      "Car Make:  Petrol\n",
      "Car Model:  VDI\n",
      "Year of Manufacturing:  2020\n",
      "----------------------------\n",
      "Car Make:  Petrol\n",
      "Car Model:  RXL\n",
      "Year of Manufacturing:  2018\n"
     ]
    }
   ],
   "source": [
    "## Exercise 12: Car Class: Create a Car class with attributes make, model, and year. Include a method to display the details of the car.\n",
    "\n",
    "class Car:\n",
    "    def __init__(self, make, model, year):\n",
    "        self.make = make \n",
    "        self.model = model \n",
    "        self.year = year \n",
    "\n",
    "    def display_car(self):\n",
    "        print(f\"Car Make: \", self.make)\n",
    "        print(f\"Car Model: \", self.model)\n",
    "        print(f\"Year of Manufacturing: \", self.year)\n",
    "\n",
    "swift = Car(\"Petrol\", \"VDI\", 2020)\n",
    "swift.display_car()\n",
    "print(\"----------------------------\")\n",
    "kwid = Car(\"Petrol\", \"RXL\", 2018)\n",
    "kwid.display_car()"
   ]
  },
  {
   "cell_type": "code",
   "execution_count": 31,
   "id": "0d6b60d8",
   "metadata": {},
   "outputs": [
    {
     "name": "stdout",
     "output_type": "stream",
     "text": [
      "Jule is a Labrador dog initialized\n",
      "Jule says Bow Bow\n",
      "---------------------\n",
      "Lucy is a Wild cat initialized\n",
      "Lucy says Meow Meow\n"
     ]
    }
   ],
   "source": [
    "## Exercise 13: Inheritance - Animal Kingdom: Create a base class Animal with a method speak(). Derive two classes Dog and Cat from Animal and override the speak method to reflect their sounds.\n",
    "\n",
    "class Animal:\n",
    "    def __init__(self, name):\n",
    "        self.name = name \n",
    "\n",
    "    def speak(self):\n",
    "        return f\"I am a base class Animal\"\n",
    "    \n",
    "class Dog(Animal):\n",
    "    def __init__(self, name, breed):\n",
    "        super().__init__(name)\n",
    "        self.breed = breed \n",
    "        print(f\"{self.name} is a {self.breed} dog initialized\")\n",
    "\n",
    "    def speak(self):\n",
    "        print(f\"{self.name} says Bow Bow\")\n",
    "\n",
    "class Cat(Animal):\n",
    "    def __init__(self, name, nature):\n",
    "        super().__init__(name)\n",
    "        self.nature = nature\n",
    "        print(f\"{self.name} is a {self.nature} cat initialized\")\n",
    "\n",
    "    def speak(self):\n",
    "        print(f\"{self.name} says Meow Meow\")\n",
    "    \n",
    "\n",
    "d1 = Dog(\"Jule\", \"Labrador\")\n",
    "d1.speak()\n",
    "\n",
    "print(\"---------------------\")\n",
    "\n",
    "c1 = Cat(\"Lucy\", \"Wild\")\n",
    "c1.speak()"
   ]
  },
  {
   "cell_type": "markdown",
   "id": "c03b9b12",
   "metadata": {},
   "source": [
    "### Polymorphism - Ability to make changes, Ability to take various forms"
   ]
  },
  {
   "cell_type": "code",
   "execution_count": 37,
   "id": "ad490327",
   "metadata": {},
   "outputs": [
    {
     "name": "stdout",
     "output_type": "stream",
     "text": [
      "Woof\n",
      "-----------------\n",
      "Meow\n",
      "-----------------\n",
      "Mittu\n"
     ]
    }
   ],
   "source": [
    "## Exercise 14: Polymorphism with a Function: Create a function describe_pet that takes an object of Animal and calls its speak method, demonstrating polymorphism.\n",
    "\n",
    "class DescribePet:\n",
    "    def __init__(self, name):\n",
    "        self.name = name \n",
    "\n",
    "    def speak(self):\n",
    "        raise NotImplementedError(\"Subclasses must implement this\")\n",
    "\n",
    "\n",
    "class Dog(Animal):\n",
    "    def speak(self):\n",
    "        return \"Woof\"\n",
    "\n",
    "\n",
    "class Cat(Animal):\n",
    "    def speak(self):\n",
    "        return \"Meow\"\n",
    "\n",
    "\n",
    "class Parrot(Animal):\n",
    "    def speak(self):\n",
    "        return \"Mittu\"\n",
    "\n",
    "\n",
    "d1 = Dog(\"Jule\")\n",
    "print(d1.speak())\n",
    "print(\"-----------------\")\n",
    "c1 = Cat(\"Lucy\")\n",
    "print(c1.speak())\n",
    "print(\"-----------------\") \n",
    "p1 = Parrot(\"Ahmed\")\n",
    "print(p1.speak())        "
   ]
  },
  {
   "cell_type": "code",
   "execution_count": 72,
   "id": "1ce6acf8",
   "metadata": {},
   "outputs": [],
   "source": [
    "## Exercise 15: Encapsulation - Protecting Attributes: Implement a class Account with a private attribute balance and provide methods to deposit and withdraw safely, checking for sufficient funds.\n",
    "\n",
    "class BankAccount:\n",
    "    def __init__(self, name, balance=0):\n",
    "        self.name = name\n",
    "        self.__balance = balance\n",
    "        print(f\"Welcome to Mashreq {self.name}! Your bank account has been opened\")\n",
    "\n",
    "\n",
    "    def deposit(self, amount=0):\n",
    "        self.__balance += amount\n",
    "        print(f\"Amount Deposited: {amount}, New Balance: {self.__balance}\")\n",
    "\n",
    "\n",
    "    def withdrawl(self, amount=0):\n",
    "        if amount > self.__balance:\n",
    "            print(\"Insufficient Funds!\")\n",
    "        else:\n",
    "            self.__balance -= amount\n",
    "            print(f\"Amount withdrawn: {amount}, New Balance: {self.__balance}\")\n",
    "\n",
    "    def check_balance(self):\n",
    "        print(\"Checking Balance...\")\n",
    "        print(f\"Your available balance is: {self.__balance}\")\n",
    "\n",
    "\n",
    "    def transfer_funds(self, account_num, account_holder_name):\n",
    "        self.account_num = account_num\n",
    "        self.account_holder_name = account_holder_name\n",
    "        user_input = int(input(f\"How much do you want to transfer to {self.account_holder_name}?\"))\n",
    "        self.__balance -= user_input\n",
    "        print(f\"{user_input} has been transferred to {self.account_holder_name}, your remaining balance: {self.__balance}\")\n",
    "\n"
   ]
  },
  {
   "cell_type": "code",
   "execution_count": 75,
   "id": "c339b6e5",
   "metadata": {},
   "outputs": [
    {
     "name": "stdout",
     "output_type": "stream",
     "text": [
      "Welcome to Mashreq Abc! Your bank account has been opened\n",
      "Checking Balance...\n",
      "Your available balance is: 0\n",
      "Amount Deposited: 126000, New Balance: 126000\n",
      "Amount withdrawn: 10000, New Balance: 116000\n",
      "Amount withdrawn: 20000, New Balance: 96000\n",
      "12500 has been transferred to Random_account_holder, your remaining balance: 83500\n"
     ]
    }
   ],
   "source": [
    "b1 = BankAccount(\"Abc\")\n",
    "b1.check_balance()\n",
    "\n",
    "b1.deposit(126000)\n",
    "b1.withdrawl(10000)\n",
    "\n",
    "b1.withdrawl(20000)\n",
    "b1.transfer_funds(123346, \"Random_account_holder\")\n"
   ]
  },
  {
   "cell_type": "code",
   "execution_count": 82,
   "id": "ca6eb917",
   "metadata": {},
   "outputs": [],
   "source": [
    "## Exercise 16: Abstract Classes - Polygon Calculator: Define an abstract base class Polygon with an abstract method area. Implement this in derived classes Rectangle and Triangle.\n",
    "\n",
    "from abc import ABC, abstractmethod\n",
    "\n",
    "class Polygon(ABC):\n",
    "    @abstractmethod\n",
    "    def area(self):\n",
    "        pass \n",
    "\n",
    "\n",
    "class Rectangle(Polygon):\n",
    "    def __init__(self, width, height):\n",
    "        self.width = width \n",
    "        self.height = height \n",
    "\n",
    "    def area(self):\n",
    "        print(f\"Area of Rectangle: \", self.width * self.height)\n",
    "\n",
    "\n",
    "class Triangle(Polygon):\n",
    "    def __init__(self, base, height):\n",
    "        self.base = base\n",
    "        self.height = height\n",
    "\n",
    "\n",
    "    def area(self):\n",
    "        print(f\"Area of Triangle: \", self.base * self.height * 0.5)"
   ]
  },
  {
   "cell_type": "code",
   "execution_count": 83,
   "id": "9158a76d",
   "metadata": {},
   "outputs": [
    {
     "name": "stdout",
     "output_type": "stream",
     "text": [
      "Area of Rectangle:  12\n",
      "Area of Triangle:  5.0\n"
     ]
    }
   ],
   "source": [
    "r1 = Rectangle(3, 4)\n",
    "r1.area()\n",
    "\n",
    "t1 = Triangle(2, 5)\n",
    "t1.area()"
   ]
  },
  {
   "cell_type": "code",
   "execution_count": 84,
   "id": "72e7e44e",
   "metadata": {},
   "outputs": [],
   "source": [
    "## Exercise 17: Multiple Inheritance - Battery and GPS Tracker: Create classes Battery and GPS with respective methods charge and location. Derive a SmartPhone class that inherits both functionalities.\n",
    "\n",
    "class Battery:\n",
    "    def __init__(self):\n",
    "        print(\"Battery is installed\")\n",
    "\n",
    "    def charge(self):\n",
    "        print(\"Charging the Battery\")\n",
    "\n",
    "class GPS:\n",
    "    def __init__(self):\n",
    "        print(\"GPS is tagged\")\n",
    "\n",
    "    def location(self):\n",
    "        print(\"Location tracked\")\n",
    "\n",
    "\n",
    "class SmartPhone(Battery, GPS):\n",
    "    pass"
   ]
  },
  {
   "cell_type": "code",
   "execution_count": 86,
   "id": "c13d9996",
   "metadata": {},
   "outputs": [
    {
     "name": "stdout",
     "output_type": "stream",
     "text": [
      "Battery is installed\n",
      "Charging the Battery\n",
      "Location tracked\n"
     ]
    }
   ],
   "source": [
    "p1 = SmartPhone()\n",
    "p1.charge()\n",
    "p1.location()"
   ]
  },
  {
   "cell_type": "code",
   "execution_count": 87,
   "id": "ed020563",
   "metadata": {},
   "outputs": [],
   "source": [
    "## Exercise 18: Using Property Decorators: Implement a class Circle with a private attribute radius and use property decorators to get and set its value with checks.\n",
    "\n",
    "class Circle:\n",
    "    def __init__(self, radius):\n",
    "        self.__radius = radius \n",
    "\n",
    "    @property\n",
    "    def radius(self):\n",
    "        return self.__radius\n",
    "    \n",
    "    @radius.setter\n",
    "    def set_radius(self, value):\n",
    "        if value >= 0:\n",
    "            self.__radius = value \n",
    "        else:\n",
    "            print(\"Radius cannot be negative\")\n",
    "\n",
    "    def area(self):\n",
    "        return 3.14 * self.__radius ** 2\n"
   ]
  },
  {
   "cell_type": "code",
   "execution_count": 88,
   "id": "66041004",
   "metadata": {},
   "outputs": [
    {
     "data": {
      "text/plain": [
       "78.5"
      ]
     },
     "execution_count": 88,
     "metadata": {},
     "output_type": "execute_result"
    }
   ],
   "source": [
    "c1 = Circle(5)\n",
    "c1.area()"
   ]
  },
  {
   "cell_type": "code",
   "execution_count": null,
   "id": "6f5b6d50",
   "metadata": {},
   "outputs": [],
   "source": []
  }
 ],
 "metadata": {
  "kernelspec": {
   "display_name": "learn",
   "language": "python",
   "name": "python3"
  },
  "language_info": {
   "codemirror_mode": {
    "name": "ipython",
    "version": 3
   },
   "file_extension": ".py",
   "mimetype": "text/x-python",
   "name": "python",
   "nbconvert_exporter": "python",
   "pygments_lexer": "ipython3",
   "version": "3.12.11"
  },
  "widgets": {
   "application/vnd.jupyter.widget-state+json": {
    "state": {},
    "version_major": 2,
    "version_minor": 0
   }
  }
 },
 "nbformat": 4,
 "nbformat_minor": 5
}
