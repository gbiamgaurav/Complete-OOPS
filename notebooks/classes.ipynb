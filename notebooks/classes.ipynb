{
 "cells": [
  {
   "cell_type": "code",
   "execution_count": 19,
   "id": "0ab395ca",
   "metadata": {},
   "outputs": [],
   "source": [
    "class Atm:\n",
    "    def __init__(self):\n",
    "        \n",
    "        self.pin = \"\"\n",
    "        self.balance = 0\n",
    "\n",
    "        self.menu()\n",
    "\n",
    "    def menu(self):\n",
    "        user_input = input(\"\"\"\n",
    "                        Hello, how would you like to proceed?\n",
    "                        1. Enter 1 to create pin\n",
    "                        2. Enter 2 to deposit\n",
    "                        3. Enter 3 to withdraw\n",
    "                        4. Enter 4 to check balance\n",
    "                        5. Enter 5 to exit\n",
    "                        \"\"\")\n",
    "        \n",
    "        if user_input == \"1\":\n",
    "            self.create_pin()\n",
    "        elif user_input == \"2\":\n",
    "            self.deposit()\n",
    "        elif user_input == \"3\":\n",
    "            self.withdraw()\n",
    "        elif user_input == \"4\":\n",
    "            self.check_balance()\n",
    "        else:\n",
    "            print(\"Exiting\")\n",
    "\n",
    "    def create_pin(self):\n",
    "        self.pin = input(\"Enter your pin\")\n",
    "        print(\"Pin Set Sucessfully\")\n",
    "\n",
    "\n",
    "    def deposit(self):\n",
    "        temp = input(\"Enter your pin\")\n",
    "        if temp == self.pin:\n",
    "            amount = int(input(\"Enter the Amount\"))\n",
    "            self.balance += amount\n",
    "            print(\"Deposit Successfull\")\n",
    "        else:\n",
    "            print(\"Invalid Pin\")\n",
    "\n",
    "\n",
    "    def withdraw(self):\n",
    "        temp = input(\"Enter your pin\")\n",
    "        if temp == self.pin:\n",
    "            amount = int(input(\"Enter the Amount to withdraw\"))\n",
    "            if amount < self.balance:\n",
    "                self.balance -= amount\n",
    "                print(\"Funds Withdrawl\")\n",
    "            else:\n",
    "                print(\"Insufficient Funds\")\n",
    "        else:\n",
    "            print(\"Invalid Pin\")\n",
    "\n",
    "\n",
    "    def check_balance(self):\n",
    "        temp = input(\"Enter your pin\")\n",
    "        if temp == self.pin:\n",
    "            print(self.balance)\n",
    "        else:\n",
    "            print(\"Invalid Pin\")"
   ]
  },
  {
   "cell_type": "code",
   "execution_count": 18,
   "metadata": {},
   "outputs": [
    {
     "name": "stdout",
     "output_type": "stream",
     "text": [
      "Exiting\n"
     ]
    }
   ],
   "source": [
    "sbi = Atm()"
   ]
  },
  {
   "cell_type": "code",
   "execution_count": 11,
   "metadata": {},
   "outputs": [
    {
     "name": "stdout",
     "output_type": "stream",
     "text": [
      "Deposit Successfull\n"
     ]
    }
   ],
   "source": [
    "sbi.deposit()"
   ]
  },
  {
   "cell_type": "code",
   "execution_count": 12,
   "id": "f56772ff",
   "metadata": {},
   "outputs": [
    {
     "name": "stdout",
     "output_type": "stream",
     "text": [
      "50000\n"
     ]
    }
   ],
   "source": [
    "sbi.check_balance()"
   ]
  },
  {
   "cell_type": "code",
   "execution_count": 13,
   "id": "7fa209ca",
   "metadata": {},
   "outputs": [
    {
     "name": "stdout",
     "output_type": "stream",
     "text": [
      "Deposit Successfull\n"
     ]
    }
   ],
   "source": [
    "sbi.deposit()"
   ]
  },
  {
   "cell_type": "code",
   "execution_count": 14,
   "metadata": {},
   "outputs": [
    {
     "name": "stdout",
     "output_type": "stream",
     "text": [
      "100000\n"
     ]
    }
   ],
   "source": [
    "sbi.check_balance()"
   ]
  },
  {
   "cell_type": "code",
   "execution_count": 15,
   "id": "cc563d7c",
   "metadata": {},
   "outputs": [
    {
     "name": "stdout",
     "output_type": "stream",
     "text": [
      "Funds Withdrawl\n"
     ]
    }
   ],
   "source": [
    "sbi.withdraw()"
   ]
  },
  {
   "cell_type": "code",
   "execution_count": 16,
   "metadata": {},
   "outputs": [
    {
     "name": "stdout",
     "output_type": "stream",
     "text": [
      "80000\n"
     ]
    }
   ],
   "source": [
    "sbi.check_balance()"
   ]
  },
  {
   "cell_type": "code",
   "execution_count": 20,
   "metadata": {},
   "outputs": [
    {
     "name": "stdout",
     "output_type": "stream",
     "text": [
      "Pin Set Sucessfully\n"
     ]
    }
   ],
   "source": [
    "hdfc = Atm()"
   ]
  },
  {
   "cell_type": "code",
   "execution_count": 21,
   "id": "6f6d23b6",
   "metadata": {},
   "outputs": [],
   "source": [
    "l1 = [1,2,34,5]"
   ]
  },
  {
   "cell_type": "code",
   "execution_count": 23,
   "id": "eb0a40a3",
   "metadata": {},
   "outputs": [
    {
     "name": "stdout",
     "output_type": "stream",
     "text": [
      "<class 'list'>\n"
     ]
    }
   ],
   "source": [
    "print(type(l1))"
   ]
  },
  {
   "cell_type": "code",
   "execution_count": 33,
   "id": "0f51e95b",
   "metadata": {},
   "outputs": [],
   "source": [
    "class Fraction:\n",
    "    def __init__(self, n, d):\n",
    "        self.n = n \n",
    "        self.d = d \n",
    "\n",
    "\n",
    "    def __str__(self):\n",
    "        return '{}/{}'.format(self.n, self.d)\n",
    "    \n",
    "\n",
    "    def __add__(self, other):\n",
    "        temp_num = self.n * other.d + other.n * self.d \n",
    "        temp_den = self.d * other.d\n",
    "        return '{}/{}'.format(temp_num, temp_den)\n",
    "\n",
    "\n",
    "    def __sub__(self, other):\n",
    "        temp_num = self.n * other.d - other.n * self.d \n",
    "        temp_den = self.d * other.d\n",
    "        return '{}/{}'.format(temp_num, temp_den)\n",
    "\n",
    "\n",
    "    def __mul__(self, other):\n",
    "        temp_num = self.n * other.n \n",
    "        temp_den = self.d * other.d\n",
    "        return '{}/{}'.format(temp_num, temp_den)\n",
    "\n",
    "\n",
    "    def __truediv__(self, other):\n",
    "        temp_num = self.n * other.d\n",
    "        temp_den = self.d * other.n\n",
    "        return '{}/{}'.format(temp_num, temp_den) \n"
   ]
  },
  {
   "cell_type": "code",
   "execution_count": 30,
   "id": "8099ee76",
   "metadata": {},
   "outputs": [
    {
     "name": "stdout",
     "output_type": "stream",
     "text": [
      "3/5\n"
     ]
    }
   ],
   "source": [
    "f1 = Fraction(3, 5)\n",
    "print(f1)"
   ]
  },
  {
   "cell_type": "code",
   "execution_count": 34,
   "id": "c62dcd49",
   "metadata": {},
   "outputs": [],
   "source": [
    "x = Fraction(3, 4)\n",
    "y = Fraction(5, 6)"
   ]
  },
  {
   "cell_type": "code",
   "execution_count": 35,
   "id": "35dfe459",
   "metadata": {},
   "outputs": [
    {
     "data": {
      "text/plain": [
       "'38/24'"
      ]
     },
     "execution_count": 35,
     "metadata": {},
     "output_type": "execute_result"
    }
   ],
   "source": [
    "x + y"
   ]
  },
  {
   "cell_type": "code",
   "execution_count": 36,
   "id": "c1f15a3d",
   "metadata": {},
   "outputs": [
    {
     "data": {
      "text/plain": [
       "'-2/24'"
      ]
     },
     "execution_count": 36,
     "metadata": {},
     "output_type": "execute_result"
    }
   ],
   "source": [
    "x-y"
   ]
  },
  {
   "cell_type": "code",
   "execution_count": 37,
   "id": "550ee2f0",
   "metadata": {},
   "outputs": [
    {
     "data": {
      "text/plain": [
       "'15/24'"
      ]
     },
     "execution_count": 37,
     "metadata": {},
     "output_type": "execute_result"
    }
   ],
   "source": [
    "x*y"
   ]
  },
  {
   "cell_type": "code",
   "execution_count": 38,
   "id": "83694d36",
   "metadata": {},
   "outputs": [
    {
     "data": {
      "text/plain": [
       "'18/20'"
      ]
     },
     "execution_count": 38,
     "metadata": {},
     "output_type": "execute_result"
    }
   ],
   "source": [
    "x/y"
   ]
  },
  {
   "cell_type": "code",
   "execution_count": null,
   "id": "8b4cc3fe",
   "metadata": {},
   "outputs": [],
   "source": []
  }
 ],
 "metadata": {
  "kernelspec": {
   "display_name": "learn",
   "language": "python",
   "name": "python3"
  },
  "language_info": {
   "codemirror_mode": {
    "name": "ipython",
    "version": 3
   },
   "file_extension": ".py",
   "mimetype": "text/x-python",
   "name": "python",
   "nbconvert_exporter": "python",
   "pygments_lexer": "ipython3",
   "version": "3.12.11"
  }
 },
 "nbformat": 4,
 "nbformat_minor": 5
}
